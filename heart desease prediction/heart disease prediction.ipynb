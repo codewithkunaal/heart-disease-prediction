{
 "cells": [
  {
   "cell_type": "code",
   "execution_count": 1,
   "id": "d2fb7c5f",
   "metadata": {},
   "outputs": [],
   "source": [
    "import pandas as pd"
   ]
  },
  {
   "cell_type": "code",
   "execution_count": 2,
   "id": "83a47556",
   "metadata": {},
   "outputs": [],
   "source": [
    "heart = pd.read_csv(\"healthcare.csv\")"
   ]
  },
  {
   "cell_type": "code",
   "execution_count": 3,
   "id": "d4c1218a",
   "metadata": {
    "scrolled": true
   },
   "outputs": [],
   "source": [
    "# heart.info(),\n",
    "# heart.head()"
   ]
  },
  {
   "cell_type": "code",
   "execution_count": 4,
   "id": "39b900d5",
   "metadata": {},
   "outputs": [],
   "source": [
    "from sklearn.preprocessing import OneHotEncoder\n",
    "from sklearn.preprocessing import LabelEncoder"
   ]
  },
  {
   "cell_type": "code",
   "execution_count": 5,
   "id": "4feae9eb",
   "metadata": {
    "scrolled": true
   },
   "outputs": [],
   "source": [
    "# dummies.info()"
   ]
  },
  {
   "cell_type": "code",
   "execution_count": 6,
   "id": "297784f4",
   "metadata": {},
   "outputs": [],
   "source": [
    "# dummies.describe()"
   ]
  },
  {
   "cell_type": "code",
   "execution_count": 7,
   "id": "1a8a0fda",
   "metadata": {},
   "outputs": [],
   "source": [
    "dummies = pd.get_dummies(heart)"
   ]
  },
  {
   "cell_type": "code",
   "execution_count": 8,
   "id": "3828401a",
   "metadata": {
    "scrolled": true
   },
   "outputs": [],
   "source": [
    "heart_data = dummies.drop([\"stroke\",\"ever_married_No\",\"gender_Female\"],axis=1)\n",
    "heart_labels = dummies[\"stroke\"].copy()"
   ]
  },
  {
   "cell_type": "code",
   "execution_count": 9,
   "id": "c09fcb98",
   "metadata": {},
   "outputs": [],
   "source": [
    "# heart_data.info()"
   ]
  },
  {
   "cell_type": "code",
   "execution_count": 10,
   "id": "b4434b96",
   "metadata": {
    "scrolled": true
   },
   "outputs": [],
   "source": [
    "# heart_labels"
   ]
  },
  {
   "cell_type": "code",
   "execution_count": 11,
   "id": "6e3a4b43",
   "metadata": {},
   "outputs": [],
   "source": [
    "from sklearn.preprocessing import StandardScaler"
   ]
  },
  {
   "cell_type": "code",
   "execution_count": 12,
   "id": "987a50d4",
   "metadata": {},
   "outputs": [],
   "source": [
    "scaler = StandardScaler()"
   ]
  },
  {
   "cell_type": "code",
   "execution_count": 13,
   "id": "bc16c6e3",
   "metadata": {},
   "outputs": [],
   "source": [
    "scaled_data = scaler.fit_transform(heart_data)"
   ]
  },
  {
   "cell_type": "code",
   "execution_count": 14,
   "id": "86a1258a",
   "metadata": {},
   "outputs": [],
   "source": [
    "from sklearn.model_selection import train_test_split"
   ]
  },
  {
   "cell_type": "code",
   "execution_count": 15,
   "id": "46c81151",
   "metadata": {},
   "outputs": [],
   "source": [
    "xtrain,xtest,ytrain,ytest = train_test_split(scaled_data,heart_labels,random_state=42,test_size=0.2)"
   ]
  },
  {
   "cell_type": "code",
   "execution_count": 16,
   "id": "11fbb890",
   "metadata": {},
   "outputs": [],
   "source": [
    "from sklearn.ensemble import RandomForestClassifier"
   ]
  },
  {
   "cell_type": "code",
   "execution_count": 18,
   "id": "5fa4ac76",
   "metadata": {},
   "outputs": [],
   "source": [
    "model = RandomForestClassifier()"
   ]
  },
  {
   "cell_type": "code",
   "execution_count": 46,
   "id": "78335b1a",
   "metadata": {},
   "outputs": [
    {
     "data": {
      "text/plain": [
       "array([[ 0.16650419, -0.540751  , -0.32860187, ..., -0.45767614,\n",
       "        -0.7667743 , -0.42731327],\n",
       "       [ 0.8849943 , -0.14270467, -0.32860187, ..., -0.45767614,\n",
       "         1.3041648 , -0.42731327],\n",
       "       [ 1.629241  , -1.5579804 , -0.32860187, ..., -0.45767614,\n",
       "        -0.7667743 , -0.42731327],\n",
       "       ...,\n",
       "       [ 1.2668059 ,  0.25534165,  3.0431964 , ...,  2.184951  ,\n",
       "        -0.7667743 , -0.42731327],\n",
       "       [ 0.1284601 ,  0.56493324, -0.32860187, ..., -0.45767614,\n",
       "        -0.7667743 ,  2.3402035 ],\n",
       "       [ 1.1228054 ,  1.5379354 ,  3.0431964 , ..., -0.45767614,\n",
       "         1.3041648 , -0.42731327]], dtype=float32)"
      ]
     },
     "execution_count": 46,
     "metadata": {},
     "output_type": "execute_result"
    }
   ],
   "source": [
    "import numpy as np\n",
    "xtest.astype(np.float32)"
   ]
  },
  {
   "cell_type": "code",
   "execution_count": 47,
   "id": "651ed7a7",
   "metadata": {},
   "outputs": [
    {
     "data": {
      "text/plain": [
       "RandomForestClassifier()"
      ]
     },
     "execution_count": 47,
     "metadata": {},
     "output_type": "execute_result"
    }
   ],
   "source": [
    "# xtrain.astype(np.float32)\n",
    "model.fit(xtrain[:,np.newaxis,1],ytrain)"
   ]
  },
  {
   "cell_type": "code",
   "execution_count": 50,
   "id": "aecc65e1",
   "metadata": {},
   "outputs": [
    {
     "data": {
      "text/plain": [
       "0.9393346379647749"
      ]
     },
     "execution_count": 50,
     "metadata": {},
     "output_type": "execute_result"
    }
   ],
   "source": [
    "model.score(xtest[:,np.newaxis,1],ytest)"
   ]
  },
  {
   "cell_type": "code",
   "execution_count": 51,
   "id": "cec87dbc",
   "metadata": {},
   "outputs": [],
   "source": [
    "from sklearn.decomposition import PCA"
   ]
  },
  {
   "cell_type": "code",
   "execution_count": 52,
   "id": "a62ccc5c",
   "metadata": {},
   "outputs": [],
   "source": [
    "pca = PCA(0.90)"
   ]
  },
  {
   "cell_type": "code",
   "execution_count": 60,
   "id": "8a9af45f",
   "metadata": {},
   "outputs": [],
   "source": [
    "scaled_data =  scaled_data[:,np.newaxis,1]"
   ]
  },
  {
   "cell_type": "code",
   "execution_count": 69,
   "id": "aacc6710",
   "metadata": {
    "scrolled": true
   },
   "outputs": [],
   "source": [
    "pca_data = pca.fit_transform(scaled_data)"
   ]
  },
  {
   "cell_type": "code",
   "execution_count": 76,
   "id": "c21ec5dc",
   "metadata": {},
   "outputs": [
    {
     "data": {
      "text/plain": [
       "(5110, 1)"
      ]
     },
     "execution_count": 76,
     "metadata": {},
     "output_type": "execute_result"
    }
   ],
   "source": [
    "pca_data.shape"
   ]
  },
  {
   "cell_type": "code",
   "execution_count": 62,
   "id": "6d4ad4eb",
   "metadata": {},
   "outputs": [],
   "source": [
    "from sklearn.ensemble import RandomForestClassifier\n",
    "model_2 = RandomForestClassifier()"
   ]
  },
  {
   "cell_type": "code",
   "execution_count": 68,
   "id": "ba53e184",
   "metadata": {},
   "outputs": [],
   "source": [
    "from sklearn.model_selection import train_test_split"
   ]
  },
  {
   "cell_type": "code",
   "execution_count": 77,
   "id": "fbb5ba45",
   "metadata": {},
   "outputs": [],
   "source": [
    "pca_train_data,pca_test_data,pca_train_label,pca_test_label =train_test_split(pca_data,heart_labels,random_state=42,test_size=0.33)"
   ]
  },
  {
   "cell_type": "code",
   "execution_count": 78,
   "id": "70fe47f3",
   "metadata": {},
   "outputs": [
    {
     "data": {
      "text/plain": [
       "RandomForestClassifier()"
      ]
     },
     "execution_count": 78,
     "metadata": {},
     "output_type": "execute_result"
    }
   ],
   "source": [
    "model_2.fit(pca_train_data,pca_train_label)"
   ]
  },
  {
   "cell_type": "code",
   "execution_count": 79,
   "id": "9809e4b0",
   "metadata": {},
   "outputs": [
    {
     "data": {
      "text/plain": [
       "0.943094250148192"
      ]
     },
     "execution_count": 79,
     "metadata": {},
     "output_type": "execute_result"
    }
   ],
   "source": [
    "model_2.score(pca_test_data,pca_test_label)"
   ]
  }
 ],
 "metadata": {
  "kernelspec": {
   "display_name": "Python 3 (ipykernel)",
   "language": "python",
   "name": "python3"
  },
  "language_info": {
   "codemirror_mode": {
    "name": "ipython",
    "version": 3
   },
   "file_extension": ".py",
   "mimetype": "text/x-python",
   "name": "python",
   "nbconvert_exporter": "python",
   "pygments_lexer": "ipython3",
   "version": "3.9.6"
  }
 },
 "nbformat": 4,
 "nbformat_minor": 5
}
